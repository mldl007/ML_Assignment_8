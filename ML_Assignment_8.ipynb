{
 "cells": [
  {
   "cell_type": "markdown",
   "id": "df9ca377-5938-4db0-8aac-00dd75c8f585",
   "metadata": {},
   "source": [
    "<h4>1. What exactly is a feature? Give an example to illustrate your point."
   ]
  },
  {
   "cell_type": "markdown",
   "id": "8fbd6918-ffe9-43ff-87e7-204c89bae6b4",
   "metadata": {},
   "source": [
    "A feature is an input/independent variable/attribute used to predict a target."
   ]
  },
  {
   "cell_type": "markdown",
   "id": "1af8fe90-f1e7-4c4b-a674-ca0ddb3bc384",
   "metadata": {},
   "source": [
    "<h4>2. What are the various circumstances in which feature construction is required?"
   ]
  },
  {
   "cell_type": "markdown",
   "id": "522e5ddd-a419-4cc4-9a04-82fc904029c7",
   "metadata": {},
   "source": [
    "Feature construction is required when the independent features don't represent the problem fully. If a model performance is poor, feature construction may help."
   ]
  },
  {
   "cell_type": "markdown",
   "id": "0a1703ad-9171-418a-892e-2638727ca904",
   "metadata": {},
   "source": [
    "<h4>3. Describe how nominal variables are encoded."
   ]
  },
  {
   "cell_type": "markdown",
   "id": "ea9f3499-194c-4b5c-b5a8-9c948f5b0e0c",
   "metadata": {},
   "source": [
    "Nominal variables can be encoded using one-hot encoding or target encoding (encoding categories by mean of the target in case of regression or frequent target in case of classification)"
   ]
  },
  {
   "cell_type": "markdown",
   "id": "cb72a198-bf6f-435f-9fc9-a276ca436236",
   "metadata": {},
   "source": [
    "<h4>4. Describe how numeric features are converted to categorical features."
   ]
  },
  {
   "cell_type": "markdown",
   "id": "b83ecead-47f0-4943-a370-80ab2e6d4664",
   "metadata": {},
   "source": [
    "Numeric features can be converted into categorical features by using binning and clustering"
   ]
  },
  {
   "cell_type": "markdown",
   "id": "bbbb19ee-5fb3-4900-90a0-32c81015c6e3",
   "metadata": {},
   "source": [
    "<h4>5. Describe the feature selection wrapper approach. State the advantages and disadvantages of this\n",
    "approach?"
   ]
  },
  {
   "cell_type": "markdown",
   "id": "98521b76-8c90-4fb9-868b-f3ac63ffd339",
   "metadata": {},
   "source": [
    "Wrapper Feature selection method uses an algorithm's coefficients or feature importance to select important features"
   ]
  },
  {
   "cell_type": "markdown",
   "id": "577bbb5f-8412-4124-85f5-c97ebb33c928",
   "metadata": {},
   "source": [
    "<h4>6. When is a feature considered irrelevant? What can be said to quantify it?"
   ]
  },
  {
   "cell_type": "markdown",
   "id": "755ef190-67f2-413e-8114-2c58aa2c5002",
   "metadata": {},
   "source": [
    "A feature is considered irrelevant if it is not correlated with target (regression) or if the chi-square or one-way ANOVA result shows the the variable is not related to the target."
   ]
  },
  {
   "cell_type": "markdown",
   "id": "9c57df01-8511-431c-992d-dfd35535191c",
   "metadata": {},
   "source": [
    "<h4>7. When is a function considered redundant? What criteria are used to identify features that could\n",
    "be redundant?"
   ]
  },
  {
   "cell_type": "markdown",
   "id": "01e85a68-13fe-49c2-bac8-b895ed4dbcd5",
   "metadata": {},
   "source": [
    "A feature is considered redundant when it's variance inflation factor (VIF) score is greater than a threshold (generally 5 or 10)"
   ]
  },
  {
   "cell_type": "markdown",
   "id": "3ed20b89-ae95-4c2e-a02c-a068303689fd",
   "metadata": {},
   "source": [
    "<h4>8. What are the various distance measurements used to determine feature similarity?"
   ]
  },
  {
   "cell_type": "markdown",
   "id": "92d119ad-0b0c-4d96-b798-0a3c33d27f7b",
   "metadata": {},
   "source": [
    "Manhattan distance, euclidean distance and cosine similarity"
   ]
  },
  {
   "cell_type": "markdown",
   "id": "b88b0847-6b1e-44a5-bdca-b728b9604a82",
   "metadata": {},
   "source": [
    "<h4>9. State difference between Euclidean and Manhattan distances?"
   ]
  },
  {
   "cell_type": "markdown",
   "id": "e26462f7-cfbb-41ea-83f0-e3b2c7c82827",
   "metadata": {},
   "source": [
    "Euclidean distance is based on L2-norm while manhattan diatance is based on L1 norm"
   ]
  },
  {
   "cell_type": "markdown",
   "id": "c2f89d9d-50f5-48cf-9645-51c2d6d5419c",
   "metadata": {},
   "source": [
    "<h4>10. Distinguish between feature transformation and feature selection."
   ]
  },
  {
   "cell_type": "markdown",
   "id": "cdfe4d1d-3260-4e83-a856-7719fd4805aa",
   "metadata": {},
   "source": [
    "Feature transformation performs standardization, normalization, changing feature distribution, treating outliers, etc. Feature selection involves selecting the relevant features used to predict a target."
   ]
  },
  {
   "cell_type": "markdown",
   "id": "f840c9e3-16f9-46b6-9c5e-38316bd0ce84",
   "metadata": {},
   "source": [
    "<h4>11. Make brief notes on any two of the following:"
   ]
  },
  {
   "cell_type": "markdown",
   "id": "1f65bd10-4e9b-4eb0-b343-1130652cfd86",
   "metadata": {},
   "source": [
    "Collection of features using a hybrid approach: Collecting features using both primary and secondary data collection techniques"
   ]
  },
  {
   "cell_type": "markdown",
   "id": "8e69b04d-ea5f-48fb-b07b-8f08c3df818c",
   "metadata": {},
   "source": [
    "The width of the silhouette: silhouette score is a clustering evaluation technique where the distance between a cluster center with its element sare measured."
   ]
  },
  {
   "cell_type": "markdown",
   "id": "32c10c7f-5969-47f5-901c-e58a5af1f771",
   "metadata": {},
   "source": [
    "Receiver operating characteristic curve: ROC curve is a plot between TPR (sensitivity) and FPR (1-specificity) across various thresholds."
   ]
  }
 ],
 "metadata": {
  "kernelspec": {
   "display_name": "Python 3 (ipykernel)",
   "language": "python",
   "name": "python3"
  },
  "language_info": {
   "codemirror_mode": {
    "name": "ipython",
    "version": 3
   },
   "file_extension": ".py",
   "mimetype": "text/x-python",
   "name": "python",
   "nbconvert_exporter": "python",
   "pygments_lexer": "ipython3",
   "version": "3.9.13"
  }
 },
 "nbformat": 4,
 "nbformat_minor": 5
}
